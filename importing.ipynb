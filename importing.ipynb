{
 "cells": [
  {
   "cell_type": "code",
   "execution_count": 7,
   "metadata": {},
   "outputs": [
    {
     "name": "stderr",
     "output_type": "stream",
     "text": [
      "c:\\Users\\owen_\\Anaconda3\\lib\\site-packages\\openpyxl\\styles\\stylesheet.py:221: UserWarning: Workbook contains no default style, apply openpyxl's default\n",
      "  warn(\"Workbook contains no default style, apply openpyxl's default\")\n"
     ]
    },
    {
     "data": {
      "text/html": [
       "<div>\n",
       "<style scoped>\n",
       "    .dataframe tbody tr th:only-of-type {\n",
       "        vertical-align: middle;\n",
       "    }\n",
       "\n",
       "    .dataframe tbody tr th {\n",
       "        vertical-align: top;\n",
       "    }\n",
       "\n",
       "    .dataframe thead th {\n",
       "        text-align: right;\n",
       "    }\n",
       "</style>\n",
       "<table border=\"1\" class=\"dataframe\">\n",
       "  <thead>\n",
       "    <tr style=\"text-align: right;\">\n",
       "      <th></th>\n",
       "      <th>Project</th>\n",
       "      <th>Description</th>\n",
       "      <th>Time (h)</th>\n",
       "      <th>Time (decimal)</th>\n",
       "      <th>Amount (USD)</th>\n",
       "    </tr>\n",
       "  </thead>\n",
       "  <tbody>\n",
       "    <tr>\n",
       "      <th>0</th>\n",
       "      <td>Sikorsky Bridgeport</td>\n",
       "      <td>NaN</td>\n",
       "      <td>97:00</td>\n",
       "      <td>97.0</td>\n",
       "      <td>8857.666667</td>\n",
       "    </tr>\n",
       "    <tr>\n",
       "      <th>1</th>\n",
       "      <td>NaN</td>\n",
       "      <td>Working on the radon peak finder</td>\n",
       "      <td>9:00</td>\n",
       "      <td>9.0</td>\n",
       "      <td>810.000000</td>\n",
       "    </tr>\n",
       "    <tr>\n",
       "      <th>2</th>\n",
       "      <td>NaN</td>\n",
       "      <td>Creating a Mahalanbois distance based Metal Cl...</td>\n",
       "      <td>1:30</td>\n",
       "      <td>1.5</td>\n",
       "      <td>150.000000</td>\n",
       "    </tr>\n",
       "    <tr>\n",
       "      <th>3</th>\n",
       "      <td>NaN</td>\n",
       "      <td>Reviewing the results with Noah for first release</td>\n",
       "      <td>1:18</td>\n",
       "      <td>1.3</td>\n",
       "      <td>130.000000</td>\n",
       "    </tr>\n",
       "    <tr>\n",
       "      <th>4</th>\n",
       "      <td>NaN</td>\n",
       "      <td>Playing with the network structure and loss fu...</td>\n",
       "      <td>8:00</td>\n",
       "      <td>8.0</td>\n",
       "      <td>720.000000</td>\n",
       "    </tr>\n",
       "  </tbody>\n",
       "</table>\n",
       "</div>"
      ],
      "text/plain": [
       "               Project                                        Description  \\\n",
       "0  Sikorsky Bridgeport                                                NaN   \n",
       "1                  NaN                   Working on the radon peak finder   \n",
       "2                  NaN  Creating a Mahalanbois distance based Metal Cl...   \n",
       "3                  NaN  Reviewing the results with Noah for first release   \n",
       "4                  NaN  Playing with the network structure and loss fu...   \n",
       "\n",
       "  Time (h)  Time (decimal)  Amount (USD)  \n",
       "0    97:00            97.0   8857.666667  \n",
       "1     9:00             9.0    810.000000  \n",
       "2     1:30             1.5    150.000000  \n",
       "3     1:18             1.3    130.000000  \n",
       "4     8:00             8.0    720.000000  "
      ]
     },
     "execution_count": 7,
     "metadata": {},
     "output_type": "execute_result"
    }
   ],
   "source": [
    "import pandas as pd\n",
    "\n",
    "df = pd.read_excel('Durations.xlsx')\n",
    "df.head()"
   ]
  },
  {
   "cell_type": "code",
   "execution_count": 17,
   "metadata": {},
   "outputs": [
    {
     "name": "stdout",
     "output_type": "stream",
     "text": [
      "{'project': 'Sikorsky Bridgeport', 'hours': 97.0, 'Rate': 91.31615120275258, 'Total': 8857.666666667}\n",
      "{'project': 'Target Guide - Aligned Vision', 'hours': 40.8, 'Rate': 96.81372549019609, 'Total': 3950.0}\n",
      "{'project': 'Edge Algorithm - Boeing Australia', 'hours': 31.333333333333332, 'Rate': 92.07446808510639, 'Total': 2885.0}\n",
      "{'project': 'FOD Algorithm - Boeing Australia', 'hours': 29.166666666666668, 'Rate': 90.0, 'Total': 2625.0}\n",
      "{'project': 'Deep Text Recognition - Aligned Vision', 'hours': 26.75, 'Rate': 90.0, 'Total': 2407.5}\n",
      "{'project': 'Orientation - Accudyne', 'hours': 23.0, 'Rate': 90.0, 'Total': 2070.0}\n",
      "{'project': 'Image Quality - Aligned Vision', 'hours': 17.633333333333333, 'Rate': 99.9999999999811, 'Total': 1763.333333333}\n",
      "{'project': 'Data Management - Metrized R&D', 'hours': 17.233333333333334, 'Rate': 99.99999999998064, 'Total': 1723.333333333}\n",
      "{'project': 'General Research', 'hours': 90.83333333333333, 'Rate': 16.678899082568808, 'Total': 1515.0}\n",
      "{'project': 'Correspondence - Aligned Vision', 'hours': 14.716666666666667, 'Rate': 100.00000000002265, 'Total': 1471.666666667}\n",
      "{'project': 'Development of Parser - Aligned Vision', 'hours': 8.0, 'Rate': 90.0, 'Total': 720.0}\n",
      "{'project': 'Auto-Align - Aligned Vision', 'hours': 6.916666666666667, 'Rate': 100.00000000004819, 'Total': 691.666666667}\n",
      "{'project': 'Material Classifier - Sikorsky', 'hours': 5.5, 'Rate': 99.54545454545455, 'Total': 547.5}\n",
      "{'project': 'Troubleshooting - Aligned Vision', 'hours': 5.066666666666666, 'Rate': 98.02631578953948, 'Total': 496.666666667}\n",
      "{'project': 'Version Documentation - Sikorsky', 'hours': 4.0, 'Rate': 100.0, 'Total': 400.0}\n",
      "{'project': 'SVN Version Control - Aligned Vision', 'hours': 4.0, 'Rate': 100.0, 'Total': 400.0}\n",
      "{'project': 'Internal Communication - Metrized', 'hours': 3.6666666666666665, 'Rate': 90.0, 'Total': 330.0}\n",
      "{'project': 'Material Classifier - Hexcel', 'hours': 3.25, 'Rate': 100.0, 'Total': 325.0}\n",
      "{'project': 'Business Admin', 'hours': 2.533333333333333, 'Rate': 99.99999999986844, 'Total': 253.333333333}\n",
      "{'project': 'Drone Demo - Aligned Vision', 'hours': 1.1833333333333333, 'Rate': 99.99999999971831, 'Total': 118.333333333}\n"
     ]
    },
    {
     "name": "stderr",
     "output_type": "stream",
     "text": [
      "c:\\Users\\owen_\\Anaconda3\\lib\\site-packages\\openpyxl\\styles\\stylesheet.py:221: UserWarning: Workbook contains no default style, apply openpyxl's default\n",
      "  warn(\"Workbook contains no default style, apply openpyxl's default\")\n"
     ]
    }
   ],
   "source": [
    "def xlsx2dict(fp:str):\n",
    "    df = pd.read_excel(fp)\n",
    "    df = df[df['Project'].isna() == False] # Get only the summary values\n",
    "    df['Rate'] = df['Amount (USD)']/df['Time (decimal)']\n",
    "    df= df[['Project','Time (decimal)', 'Rate', 'Amount (USD)']]\n",
    "    df = df[:-1]\n",
    "    vals = df.values\n",
    "\n",
    "    # List of dicts\n",
    "    d = [{'project':v[0], 'hours': v[1], 'rate': v[2], 'Total':v[3]}for v in vals]\n",
    "\n",
    "    return d\n",
    "\n",
    "for el in xlsx2dict('Durations.xlsx'):\n",
    "    print(el)"
   ]
  }
 ],
 "metadata": {
  "kernelspec": {
   "display_name": "Python 3",
   "language": "python",
   "name": "python3"
  },
  "language_info": {
   "codemirror_mode": {
    "name": "ipython",
    "version": 3
   },
   "file_extension": ".py",
   "mimetype": "text/x-python",
   "name": "python",
   "nbconvert_exporter": "python",
   "pygments_lexer": "ipython3",
   "version": "3.8.8"
  },
  "orig_nbformat": 4
 },
 "nbformat": 4,
 "nbformat_minor": 2
}

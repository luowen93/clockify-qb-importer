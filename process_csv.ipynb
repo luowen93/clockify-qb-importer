{
 "cells": [
  {
   "cell_type": "code",
   "execution_count": 1,
   "metadata": {},
   "outputs": [
    {
     "name": "stderr",
     "output_type": "stream",
     "text": [
      "c:\\Users\\Metrized\\anaconda3\\lib\\site-packages\\numpy\\_distributor_init.py:30: UserWarning: loaded more than 1 DLL from .libs:\n",
      "c:\\Users\\Metrized\\anaconda3\\lib\\site-packages\\numpy\\.libs\\libopenblas.NOIJJG62EMASZI6NYURL6JBKM4EVBGM7.gfortran-win_amd64.dll\n",
      "c:\\Users\\Metrized\\anaconda3\\lib\\site-packages\\numpy\\.libs\\libopenblas.PYQHXLVVQ7VESDPUVUADXEVJOBGHJPAY.gfortran-win_amd64.dll\n",
      "  warnings.warn(\"loaded more than 1 DLL from .libs:\\n%s\" %\n"
     ]
    }
   ],
   "source": [
    "import pandas as pd"
   ]
  },
  {
   "cell_type": "code",
   "execution_count": 49,
   "metadata": {},
   "outputs": [
    {
     "name": "stdout",
     "output_type": "stream",
     "text": [
      "Angle classifier-Sikorsky [  16.71666667 1671.66666667  100.        ]\n",
      "Auto-Align-Aligned Vision [  4. 400. 100.]\n",
      "Automotive Demo-Aligned Vision [  5.81666667 581.66666667 100.        ]\n",
      "Correspondence-Aligned Vision [  3.51666667 351.66666667 100.        ]\n",
      "Data Management-Metrized R&D [  80.6 8060.   100. ]\n",
      "Drone Demo-Aligned Vision [  41.21666667 4121.66666667  100.        ]\n",
      "FOD-TATA [  81.68333333 8168.33333333  100.        ]\n",
      "General Research-(Without client) [7.16666667 0.         0.        ]\n",
      "Internal Communication-Metrized [  1.5 150.  100. ]\n",
      "Jetson-Aligned Vision [  14.25 1425.    100.  ]\n",
      "Material Classifier-Hexcel [  41.98333333 4542.5         108.1976975 ]\n",
      "Material Classifier-Sikorsky [  6. 600. 100.]\n",
      "Orientation-Hexcel [  26.85 2685.    100.  ]\n",
      "Pin Detector-Nissan [  32. 3200.  100.]\n",
      "Target Guide-Aligned Vision [  19.36666667 2194.16666667  113.29604131]\n"
     ]
    }
   ],
   "source": [
    "df = pd.read_csv(\"Durations.csv\")\n",
    "# df.head()\n",
    "df['item_description'] = df['Project'] + \"-\" + df['Client'] # Add new description\n",
    "\n",
    "# Create a new rate column\n",
    "vals = df.groupby('item_description').sum()\n",
    "vals['Rate'] = vals['Amount (USD)']/vals['Time (decimal)']\n",
    "\n",
    "for idx, v in zip(vals.index,vals.values):\n",
    "    print(idx,v)"
   ]
  },
  {
   "cell_type": "code",
   "execution_count": 41,
   "metadata": {},
   "outputs": [
    {
     "data": {
      "text/plain": [
       "['*InvoiceNo',\n",
       " '*Customer',\n",
       " '*InvoiceDate',\n",
       " '*DueDate',\n",
       " 'Terms',\n",
       " 'Location',\n",
       " 'Memo',\n",
       " 'Item(Product/Service)',\n",
       " 'ItemDescription',\n",
       " 'ItemQuantity',\n",
       " 'ItemRate',\n",
       " '*ItemAmount',\n",
       " 'ItemTaxAmount',\n",
       " 'Currency']"
      ]
     },
     "execution_count": 41,
     "metadata": {},
     "output_type": "execute_result"
    }
   ],
   "source": [
    "df_columns = pd.read_csv('qb_columns.csv',header=None)\n",
    "headings = list(df_columns.values[0])\n",
    "headings"
   ]
  },
  {
   "cell_type": "code",
   "execution_count": 50,
   "metadata": {},
   "outputs": [],
   "source": [
    "new_columns = ''\n",
    "# Do a sum if and get the correct dates\n",
    "invoice = 151\n",
    "customer = 'Aligned Vision Inc'\n",
    "invoice_date = '2/28/2022' \n",
    "due_date = '03/31/2022'\n",
    "terms = 'Net 30'\n",
    "hours = 'Hours'\n",
    "\n",
    "l = list()\n",
    "for idx, v in zip(vals.index,vals.values):\n",
    "    time,amount,rate = v\n",
    "    l.append([invoice,customer,invoice_date,due_date,'Net 30',None,None,hours, idx, time,rate,amount,0,'USD' ])\n",
    "\n",
    "df_final = pd.DataFrame(l,columns = headings)\n",
    "df_final.to_csv(f'Invoice_{invoice}_qb.csv')"
   ]
  },
  {
   "cell_type": "code",
   "execution_count": 35,
   "metadata": {},
   "outputs": [
    {
     "data": {
      "text/plain": [
       "array([[1.67166667e+01, 1.67166667e+03, 1.00000000e+02],\n",
       "       [4.00000000e+00, 4.00000000e+02, 1.00000000e+02],\n",
       "       [5.81666667e+00, 5.81666667e+02, 1.00000000e+02],\n",
       "       [3.51666667e+00, 3.51666667e+02, 1.00000000e+02],\n",
       "       [8.06000000e+01, 8.06000000e+03, 1.00000000e+02],\n",
       "       [4.12166667e+01, 4.12166667e+03, 1.00000000e+02],\n",
       "       [8.16833333e+01, 8.16833333e+03, 1.00000000e+02],\n",
       "       [7.16666667e+00, 0.00000000e+00, 0.00000000e+00],\n",
       "       [1.50000000e+00, 1.50000000e+02, 1.00000000e+02],\n",
       "       [1.42500000e+01, 1.42500000e+03, 1.00000000e+02],\n",
       "       [4.19833333e+01, 4.54250000e+03, 1.08197697e+02],\n",
       "       [6.00000000e+00, 6.00000000e+02, 1.00000000e+02],\n",
       "       [2.68500000e+01, 2.68500000e+03, 1.00000000e+02],\n",
       "       [3.20000000e+01, 3.20000000e+03, 1.00000000e+02],\n",
       "       [1.93666667e+01, 2.19416667e+03, 1.13296041e+02]])"
      ]
     },
     "execution_count": 35,
     "metadata": {},
     "output_type": "execute_result"
    }
   ],
   "source": [
    "vals.values"
   ]
  }
 ],
 "metadata": {
  "kernelspec": {
   "display_name": "base",
   "language": "python",
   "name": "python3"
  },
  "language_info": {
   "codemirror_mode": {
    "name": "ipython",
    "version": 3
   },
   "file_extension": ".py",
   "mimetype": "text/x-python",
   "name": "python",
   "nbconvert_exporter": "python",
   "pygments_lexer": "ipython3",
   "version": "3.8.8"
  },
  "orig_nbformat": 4
 },
 "nbformat": 4,
 "nbformat_minor": 2
}
